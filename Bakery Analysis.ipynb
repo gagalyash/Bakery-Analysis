{
 "cells": [
  {
   "cell_type": "code",
   "execution_count": 1,
   "id": "483b0665",
   "metadata": {},
   "outputs": [],
   "source": [
    "# Necessary Library for Analysis\n",
    "import pandas as pd\n",
    "import numpy as np\n",
    "import matplotlib.pyplot as plt\n",
    "import seaborn as sns\n",
    "import datetime as dt\n",
    "from datetime import datetime\n",
    "import calendar\n",
    "from datetime import date\n",
    "import warnings\n",
    "warnings.filterwarnings('ignore')"
   ]
  },
  {
   "cell_type": "code",
   "execution_count": 2,
   "id": "4ea059ec",
   "metadata": {},
   "outputs": [],
   "source": [
    "# Read the data\n",
    "df = pd.read_csv('bakery.csv')"
   ]
  },
  {
   "cell_type": "code",
   "execution_count": 3,
   "id": "05757dce",
   "metadata": {},
   "outputs": [
    {
     "data": {
      "text/html": [
       "<div>\n",
       "<style scoped>\n",
       "    .dataframe tbody tr th:only-of-type {\n",
       "        vertical-align: middle;\n",
       "    }\n",
       "\n",
       "    .dataframe tbody tr th {\n",
       "        vertical-align: top;\n",
       "    }\n",
       "\n",
       "    .dataframe thead th {\n",
       "        text-align: right;\n",
       "    }\n",
       "</style>\n",
       "<table border=\"1\" class=\"dataframe\">\n",
       "  <thead>\n",
       "    <tr style=\"text-align: right;\">\n",
       "      <th></th>\n",
       "      <th>TransactionNo</th>\n",
       "      <th>Items</th>\n",
       "      <th>DateTime</th>\n",
       "      <th>Daypart</th>\n",
       "      <th>DayType</th>\n",
       "    </tr>\n",
       "  </thead>\n",
       "  <tbody>\n",
       "    <tr>\n",
       "      <th>0</th>\n",
       "      <td>1</td>\n",
       "      <td>Bread</td>\n",
       "      <td>2016-10-30 09:58:11</td>\n",
       "      <td>Morning</td>\n",
       "      <td>Weekend</td>\n",
       "    </tr>\n",
       "    <tr>\n",
       "      <th>1</th>\n",
       "      <td>2</td>\n",
       "      <td>Scandinavian</td>\n",
       "      <td>2016-10-30 10:05:34</td>\n",
       "      <td>Morning</td>\n",
       "      <td>Weekend</td>\n",
       "    </tr>\n",
       "    <tr>\n",
       "      <th>2</th>\n",
       "      <td>2</td>\n",
       "      <td>Scandinavian</td>\n",
       "      <td>2016-10-30 10:05:34</td>\n",
       "      <td>Morning</td>\n",
       "      <td>Weekend</td>\n",
       "    </tr>\n",
       "    <tr>\n",
       "      <th>3</th>\n",
       "      <td>3</td>\n",
       "      <td>Hot chocolate</td>\n",
       "      <td>2016-10-30 10:07:57</td>\n",
       "      <td>Morning</td>\n",
       "      <td>Weekend</td>\n",
       "    </tr>\n",
       "    <tr>\n",
       "      <th>4</th>\n",
       "      <td>3</td>\n",
       "      <td>Jam</td>\n",
       "      <td>2016-10-30 10:07:57</td>\n",
       "      <td>Morning</td>\n",
       "      <td>Weekend</td>\n",
       "    </tr>\n",
       "  </tbody>\n",
       "</table>\n",
       "</div>"
      ],
      "text/plain": [
       "   TransactionNo          Items             DateTime  Daypart  DayType\n",
       "0              1          Bread  2016-10-30 09:58:11  Morning  Weekend\n",
       "1              2   Scandinavian  2016-10-30 10:05:34  Morning  Weekend\n",
       "2              2   Scandinavian  2016-10-30 10:05:34  Morning  Weekend\n",
       "3              3  Hot chocolate  2016-10-30 10:07:57  Morning  Weekend\n",
       "4              3            Jam  2016-10-30 10:07:57  Morning  Weekend"
      ]
     },
     "execution_count": 3,
     "metadata": {},
     "output_type": "execute_result"
    }
   ],
   "source": [
    "# Prints the first five rows\n",
    "df.head()"
   ]
  },
  {
   "cell_type": "code",
   "execution_count": 4,
   "id": "ba33b9ac",
   "metadata": {},
   "outputs": [
    {
     "data": {
      "text/plain": [
       "(20507, 5)"
      ]
     },
     "execution_count": 4,
     "metadata": {},
     "output_type": "execute_result"
    }
   ],
   "source": [
    "# checks the shape of dataframe\n",
    "df.shape"
   ]
  },
  {
   "cell_type": "code",
   "execution_count": 5,
   "id": "081622e2",
   "metadata": {},
   "outputs": [
    {
     "name": "stdout",
     "output_type": "stream",
     "text": [
      "<class 'pandas.core.frame.DataFrame'>\n",
      "RangeIndex: 20507 entries, 0 to 20506\n",
      "Data columns (total 5 columns):\n",
      " #   Column         Non-Null Count  Dtype \n",
      "---  ------         --------------  ----- \n",
      " 0   TransactionNo  20507 non-null  int64 \n",
      " 1   Items          20507 non-null  object\n",
      " 2   DateTime       20507 non-null  object\n",
      " 3   Daypart        20507 non-null  object\n",
      " 4   DayType        20507 non-null  object\n",
      "dtypes: int64(1), object(4)\n",
      "memory usage: 801.2+ KB\n"
     ]
    }
   ],
   "source": [
    "# Gives information about the dataframe\n",
    "df.info()"
   ]
  },
  {
   "cell_type": "code",
   "execution_count": 6,
   "id": "254f12e4",
   "metadata": {},
   "outputs": [
    {
     "data": {
      "text/plain": [
       "TransactionNo    0\n",
       "Items            0\n",
       "DateTime         0\n",
       "Daypart          0\n",
       "DayType          0\n",
       "dtype: int64"
      ]
     },
     "execution_count": 6,
     "metadata": {},
     "output_type": "execute_result"
    }
   ],
   "source": [
    "# Checks the null values in the dataframe\n",
    "df.isnull().sum()"
   ]
  },
  {
   "cell_type": "code",
   "execution_count": 7,
   "id": "c1af578b",
   "metadata": {},
   "outputs": [
    {
     "data": {
      "text/html": [
       "<div>\n",
       "<style scoped>\n",
       "    .dataframe tbody tr th:only-of-type {\n",
       "        vertical-align: middle;\n",
       "    }\n",
       "\n",
       "    .dataframe tbody tr th {\n",
       "        vertical-align: top;\n",
       "    }\n",
       "\n",
       "    .dataframe thead th {\n",
       "        text-align: right;\n",
       "    }\n",
       "</style>\n",
       "<table border=\"1\" class=\"dataframe\">\n",
       "  <thead>\n",
       "    <tr style=\"text-align: right;\">\n",
       "      <th></th>\n",
       "      <th>Items</th>\n",
       "      <th>DateTime</th>\n",
       "      <th>Daypart</th>\n",
       "      <th>DayType</th>\n",
       "    </tr>\n",
       "  </thead>\n",
       "  <tbody>\n",
       "    <tr>\n",
       "      <th>count</th>\n",
       "      <td>20507</td>\n",
       "      <td>20507</td>\n",
       "      <td>20507</td>\n",
       "      <td>20507</td>\n",
       "    </tr>\n",
       "    <tr>\n",
       "      <th>unique</th>\n",
       "      <td>94</td>\n",
       "      <td>9465</td>\n",
       "      <td>4</td>\n",
       "      <td>2</td>\n",
       "    </tr>\n",
       "    <tr>\n",
       "      <th>top</th>\n",
       "      <td>Coffee</td>\n",
       "      <td>2017-02-17 14:18:20</td>\n",
       "      <td>Afternoon</td>\n",
       "      <td>Weekday</td>\n",
       "    </tr>\n",
       "    <tr>\n",
       "      <th>freq</th>\n",
       "      <td>5471</td>\n",
       "      <td>11</td>\n",
       "      <td>11569</td>\n",
       "      <td>12807</td>\n",
       "    </tr>\n",
       "  </tbody>\n",
       "</table>\n",
       "</div>"
      ],
      "text/plain": [
       "         Items             DateTime    Daypart  DayType\n",
       "count    20507                20507      20507    20507\n",
       "unique      94                 9465          4        2\n",
       "top     Coffee  2017-02-17 14:18:20  Afternoon  Weekday\n",
       "freq      5471                   11      11569    12807"
      ]
     },
     "execution_count": 7,
     "metadata": {},
     "output_type": "execute_result"
    }
   ],
   "source": [
    "# Statistical Measure\n",
    "df.describe(include=object)"
   ]
  },
  {
   "cell_type": "code",
   "execution_count": 8,
   "id": "c26cccef",
   "metadata": {},
   "outputs": [
    {
     "name": "stdout",
     "output_type": "stream",
     "text": [
      "Items : ['Bread' 'Scandinavian' 'Hot chocolate' 'Jam' 'Cookies' 'Muffin' 'Coffee'\n",
      " 'Pastry' 'Medialuna' 'Tea' 'Tartine' 'Basket' 'Mineral water'\n",
      " 'Farm House' 'Fudge' 'Juice' \"Ella's Kitchen Pouches\" 'Victorian Sponge'\n",
      " 'Frittata' 'Hearty & Seasonal' 'Soup' 'Pick and Mix Bowls' 'Smoothies'\n",
      " 'Cake' 'Mighty Protein' 'Chicken sand' 'Coke' 'My-5 Fruit Shoot'\n",
      " 'Focaccia' 'Sandwich' 'Alfajores' 'Eggs' 'Brownie' 'Dulce de Leche'\n",
      " 'Honey' 'The BART' 'Granola' 'Fairy Doors' 'Empanadas' 'Keeping It Local'\n",
      " 'Art Tray' 'Bowl Nic Pitt' 'Bread Pudding' 'Adjustment' 'Truffles'\n",
      " 'Chimichurri Oil' 'Bacon' 'Spread' 'Kids biscuit' 'Siblings'\n",
      " 'Caramel bites' 'Jammie Dodgers' 'Tiffin' 'Olum & polenta' 'Polenta'\n",
      " 'The Nomad' 'Hack the stack' 'Bakewell' 'Lemon and coconut' 'Toast'\n",
      " 'Scone' 'Crepes' 'Vegan mincepie' 'Bare Popcorn' 'Muesli' 'Crisps'\n",
      " 'Pintxos' 'Gingerbread syrup' 'Panatone' 'Brioche and salami'\n",
      " 'Afternoon with the baker' 'Salad' 'Chicken Stew' 'Spanish Brunch'\n",
      " 'Raspberry shortbread sandwich' 'Extra Salami or Feta' 'Duck egg'\n",
      " 'Baguette' \"Valentine's card\" 'Tshirt' 'Vegan Feast' 'Postcard'\n",
      " 'Nomad bag' 'Chocolates' 'Coffee granules ' 'Drinking chocolate spoons '\n",
      " 'Christmas common' 'Argentina Night' 'Half slice Monster ' 'Gift voucher'\n",
      " 'Cherry me Dried fruit' 'Mortimer' 'Raw bars' 'Tacos/Fajita']\n",
      "Daypart : ['Morning' 'Afternoon' 'Evening' 'Night']\n",
      "DayType : ['Weekend' 'Weekday']\n"
     ]
    }
   ],
   "source": [
    "# Prints the unique value\n",
    "print('Items :', df.Items.unique())\n",
    "print('Daypart :', df.Daypart.unique())\n",
    "print('DayType :', df.DayType.unique())"
   ]
  },
  {
   "cell_type": "code",
   "execution_count": 9,
   "id": "0d6193a6",
   "metadata": {},
   "outputs": [
    {
     "data": {
      "text/plain": [
       "0        2016-10-30 09:58:11\n",
       "1        2016-10-30 10:05:34\n",
       "2        2016-10-30 10:05:34\n",
       "3        2016-10-30 10:07:57\n",
       "4        2016-10-30 10:07:57\n",
       "                ...         \n",
       "20502    2017-09-04 14:32:58\n",
       "20503    2017-09-04 14:32:58\n",
       "20504    2017-09-04 14:57:06\n",
       "20505    2017-09-04 14:57:06\n",
       "20506    2017-09-04 15:04:24\n",
       "Name: DateTime, Length: 20507, dtype: object"
      ]
     },
     "execution_count": 9,
     "metadata": {},
     "output_type": "execute_result"
    }
   ],
   "source": [
    "df['DateTime']"
   ]
  },
  {
   "cell_type": "code",
   "execution_count": 10,
   "id": "4d9de19f",
   "metadata": {},
   "outputs": [
    {
     "data": {
      "text/plain": [
       "0       2016-10-30 09:58:11\n",
       "1       2016-10-30 10:05:34\n",
       "2       2016-10-30 10:05:34\n",
       "3       2016-10-30 10:07:57\n",
       "4       2016-10-30 10:07:57\n",
       "                ...        \n",
       "20502   2017-09-04 14:32:58\n",
       "20503   2017-09-04 14:32:58\n",
       "20504   2017-09-04 14:57:06\n",
       "20505   2017-09-04 14:57:06\n",
       "20506   2017-09-04 15:04:24\n",
       "Name: DateTime, Length: 20507, dtype: datetime64[ns]"
      ]
     },
     "execution_count": 10,
     "metadata": {},
     "output_type": "execute_result"
    }
   ],
   "source": [
    "# Convert into DateTime Datatype\n",
    "df['DateTime'] = pd.to_datetime(df['DateTime'])\n",
    "df['DateTime']"
   ]
  },
  {
   "cell_type": "code",
   "execution_count": 11,
   "id": "a04c56a0",
   "metadata": {},
   "outputs": [],
   "source": [
    "df['Day'] = df['DateTime'].dt.day_name()\n",
    "df['Year'] = df['DateTime'].dt.year\n",
    "df['Month'] = df['DateTime'].dt.month_name()"
   ]
  },
  {
   "cell_type": "code",
   "execution_count": 12,
   "id": "6d0410ca",
   "metadata": {},
   "outputs": [
    {
     "data": {
      "text/html": [
       "<div>\n",
       "<style scoped>\n",
       "    .dataframe tbody tr th:only-of-type {\n",
       "        vertical-align: middle;\n",
       "    }\n",
       "\n",
       "    .dataframe tbody tr th {\n",
       "        vertical-align: top;\n",
       "    }\n",
       "\n",
       "    .dataframe thead th {\n",
       "        text-align: right;\n",
       "    }\n",
       "</style>\n",
       "<table border=\"1\" class=\"dataframe\">\n",
       "  <thead>\n",
       "    <tr style=\"text-align: right;\">\n",
       "      <th></th>\n",
       "      <th>TransactionNo</th>\n",
       "      <th>Items</th>\n",
       "      <th>DateTime</th>\n",
       "      <th>Daypart</th>\n",
       "      <th>DayType</th>\n",
       "      <th>Day</th>\n",
       "      <th>Year</th>\n",
       "      <th>Month</th>\n",
       "    </tr>\n",
       "  </thead>\n",
       "  <tbody>\n",
       "    <tr>\n",
       "      <th>0</th>\n",
       "      <td>1</td>\n",
       "      <td>Bread</td>\n",
       "      <td>2016-10-30 09:58:11</td>\n",
       "      <td>Morning</td>\n",
       "      <td>Weekend</td>\n",
       "      <td>Sunday</td>\n",
       "      <td>2016</td>\n",
       "      <td>October</td>\n",
       "    </tr>\n",
       "    <tr>\n",
       "      <th>1</th>\n",
       "      <td>2</td>\n",
       "      <td>Scandinavian</td>\n",
       "      <td>2016-10-30 10:05:34</td>\n",
       "      <td>Morning</td>\n",
       "      <td>Weekend</td>\n",
       "      <td>Sunday</td>\n",
       "      <td>2016</td>\n",
       "      <td>October</td>\n",
       "    </tr>\n",
       "    <tr>\n",
       "      <th>2</th>\n",
       "      <td>2</td>\n",
       "      <td>Scandinavian</td>\n",
       "      <td>2016-10-30 10:05:34</td>\n",
       "      <td>Morning</td>\n",
       "      <td>Weekend</td>\n",
       "      <td>Sunday</td>\n",
       "      <td>2016</td>\n",
       "      <td>October</td>\n",
       "    </tr>\n",
       "    <tr>\n",
       "      <th>3</th>\n",
       "      <td>3</td>\n",
       "      <td>Hot chocolate</td>\n",
       "      <td>2016-10-30 10:07:57</td>\n",
       "      <td>Morning</td>\n",
       "      <td>Weekend</td>\n",
       "      <td>Sunday</td>\n",
       "      <td>2016</td>\n",
       "      <td>October</td>\n",
       "    </tr>\n",
       "    <tr>\n",
       "      <th>4</th>\n",
       "      <td>3</td>\n",
       "      <td>Jam</td>\n",
       "      <td>2016-10-30 10:07:57</td>\n",
       "      <td>Morning</td>\n",
       "      <td>Weekend</td>\n",
       "      <td>Sunday</td>\n",
       "      <td>2016</td>\n",
       "      <td>October</td>\n",
       "    </tr>\n",
       "  </tbody>\n",
       "</table>\n",
       "</div>"
      ],
      "text/plain": [
       "   TransactionNo          Items            DateTime  Daypart  DayType     Day  \\\n",
       "0              1          Bread 2016-10-30 09:58:11  Morning  Weekend  Sunday   \n",
       "1              2   Scandinavian 2016-10-30 10:05:34  Morning  Weekend  Sunday   \n",
       "2              2   Scandinavian 2016-10-30 10:05:34  Morning  Weekend  Sunday   \n",
       "3              3  Hot chocolate 2016-10-30 10:07:57  Morning  Weekend  Sunday   \n",
       "4              3            Jam 2016-10-30 10:07:57  Morning  Weekend  Sunday   \n",
       "\n",
       "   Year    Month  \n",
       "0  2016  October  \n",
       "1  2016  October  \n",
       "2  2016  October  \n",
       "3  2016  October  \n",
       "4  2016  October  "
      ]
     },
     "execution_count": 12,
     "metadata": {},
     "output_type": "execute_result"
    }
   ],
   "source": [
    "df.head()"
   ]
  },
  {
   "cell_type": "code",
   "execution_count": 13,
   "id": "87712c9a",
   "metadata": {},
   "outputs": [
    {
     "data": {
      "text/html": [
       "<div>\n",
       "<style scoped>\n",
       "    .dataframe tbody tr th:only-of-type {\n",
       "        vertical-align: middle;\n",
       "    }\n",
       "\n",
       "    .dataframe tbody tr th {\n",
       "        vertical-align: top;\n",
       "    }\n",
       "\n",
       "    .dataframe thead th {\n",
       "        text-align: right;\n",
       "    }\n",
       "</style>\n",
       "<table border=\"1\" class=\"dataframe\">\n",
       "  <thead>\n",
       "    <tr style=\"text-align: right;\">\n",
       "      <th></th>\n",
       "      <th>TransactionNo</th>\n",
       "      <th>Items</th>\n",
       "      <th>DateTime</th>\n",
       "      <th>Daypart</th>\n",
       "      <th>DayType</th>\n",
       "      <th>Day</th>\n",
       "      <th>Year</th>\n",
       "      <th>Month</th>\n",
       "    </tr>\n",
       "  </thead>\n",
       "  <tbody>\n",
       "    <tr>\n",
       "      <th>0</th>\n",
       "      <td>1</td>\n",
       "      <td>Bread</td>\n",
       "      <td>2016-10-30 09:58:11</td>\n",
       "      <td>Morning</td>\n",
       "      <td>Weekend</td>\n",
       "      <td>Sunday</td>\n",
       "      <td>2016</td>\n",
       "      <td>October</td>\n",
       "    </tr>\n",
       "    <tr>\n",
       "      <th>1</th>\n",
       "      <td>2</td>\n",
       "      <td>Scandinavian</td>\n",
       "      <td>2016-10-30 10:05:34</td>\n",
       "      <td>Morning</td>\n",
       "      <td>Weekend</td>\n",
       "      <td>Sunday</td>\n",
       "      <td>2016</td>\n",
       "      <td>October</td>\n",
       "    </tr>\n",
       "    <tr>\n",
       "      <th>2</th>\n",
       "      <td>2</td>\n",
       "      <td>Scandinavian</td>\n",
       "      <td>2016-10-30 10:05:34</td>\n",
       "      <td>Morning</td>\n",
       "      <td>Weekend</td>\n",
       "      <td>Sunday</td>\n",
       "      <td>2016</td>\n",
       "      <td>October</td>\n",
       "    </tr>\n",
       "    <tr>\n",
       "      <th>3</th>\n",
       "      <td>3</td>\n",
       "      <td>Hot chocolate</td>\n",
       "      <td>2016-10-30 10:07:57</td>\n",
       "      <td>Morning</td>\n",
       "      <td>Weekend</td>\n",
       "      <td>Sunday</td>\n",
       "      <td>2016</td>\n",
       "      <td>October</td>\n",
       "    </tr>\n",
       "    <tr>\n",
       "      <th>4</th>\n",
       "      <td>3</td>\n",
       "      <td>Jam</td>\n",
       "      <td>2016-10-30 10:07:57</td>\n",
       "      <td>Morning</td>\n",
       "      <td>Weekend</td>\n",
       "      <td>Sunday</td>\n",
       "      <td>2016</td>\n",
       "      <td>October</td>\n",
       "    </tr>\n",
       "  </tbody>\n",
       "</table>\n",
       "</div>"
      ],
      "text/plain": [
       "   TransactionNo          Items            DateTime  Daypart  DayType     Day  \\\n",
       "0              1          Bread 2016-10-30 09:58:11  Morning  Weekend  Sunday   \n",
       "1              2   Scandinavian 2016-10-30 10:05:34  Morning  Weekend  Sunday   \n",
       "2              2   Scandinavian 2016-10-30 10:05:34  Morning  Weekend  Sunday   \n",
       "3              3  Hot chocolate 2016-10-30 10:07:57  Morning  Weekend  Sunday   \n",
       "4              3            Jam 2016-10-30 10:07:57  Morning  Weekend  Sunday   \n",
       "\n",
       "   Year    Month  \n",
       "0  2016  October  \n",
       "1  2016  October  \n",
       "2  2016  October  \n",
       "3  2016  October  \n",
       "4  2016  October  "
      ]
     },
     "execution_count": 13,
     "metadata": {},
     "output_type": "execute_result"
    }
   ],
   "source": [
    "df.sort_values('TransactionNo', inplace=True)\n",
    "df.head()"
   ]
  },
  {
   "cell_type": "code",
   "execution_count": 14,
   "id": "13008954",
   "metadata": {},
   "outputs": [
    {
     "data": {
      "text/html": [
       "<div>\n",
       "<style scoped>\n",
       "    .dataframe tbody tr th:only-of-type {\n",
       "        vertical-align: middle;\n",
       "    }\n",
       "\n",
       "    .dataframe tbody tr th {\n",
       "        vertical-align: top;\n",
       "    }\n",
       "\n",
       "    .dataframe thead th {\n",
       "        text-align: right;\n",
       "    }\n",
       "</style>\n",
       "<table border=\"1\" class=\"dataframe\">\n",
       "  <thead>\n",
       "    <tr style=\"text-align: right;\">\n",
       "      <th></th>\n",
       "      <th>TransactionNo</th>\n",
       "      <th>Items</th>\n",
       "      <th>DateTime</th>\n",
       "      <th>Daypart</th>\n",
       "      <th>DayType</th>\n",
       "      <th>Day</th>\n",
       "      <th>Year</th>\n",
       "      <th>Month</th>\n",
       "    </tr>\n",
       "  </thead>\n",
       "  <tbody>\n",
       "    <tr>\n",
       "      <th>0</th>\n",
       "      <td>1</td>\n",
       "      <td>Bread</td>\n",
       "      <td>2016-10-30 09:58:11</td>\n",
       "      <td>Morning</td>\n",
       "      <td>Weekend</td>\n",
       "      <td>Sunday</td>\n",
       "      <td>2016</td>\n",
       "      <td>October</td>\n",
       "    </tr>\n",
       "    <tr>\n",
       "      <th>1</th>\n",
       "      <td>2</td>\n",
       "      <td>Scandinavian</td>\n",
       "      <td>2016-10-30 10:05:34</td>\n",
       "      <td>Morning</td>\n",
       "      <td>Weekend</td>\n",
       "      <td>Sunday</td>\n",
       "      <td>2016</td>\n",
       "      <td>October</td>\n",
       "    </tr>\n",
       "    <tr>\n",
       "      <th>3</th>\n",
       "      <td>3</td>\n",
       "      <td>Hot chocolate</td>\n",
       "      <td>2016-10-30 10:07:57</td>\n",
       "      <td>Morning</td>\n",
       "      <td>Weekend</td>\n",
       "      <td>Sunday</td>\n",
       "      <td>2016</td>\n",
       "      <td>October</td>\n",
       "    </tr>\n",
       "    <tr>\n",
       "      <th>4</th>\n",
       "      <td>3</td>\n",
       "      <td>Jam</td>\n",
       "      <td>2016-10-30 10:07:57</td>\n",
       "      <td>Morning</td>\n",
       "      <td>Weekend</td>\n",
       "      <td>Sunday</td>\n",
       "      <td>2016</td>\n",
       "      <td>October</td>\n",
       "    </tr>\n",
       "    <tr>\n",
       "      <th>5</th>\n",
       "      <td>3</td>\n",
       "      <td>Cookies</td>\n",
       "      <td>2016-10-30 10:07:57</td>\n",
       "      <td>Morning</td>\n",
       "      <td>Weekend</td>\n",
       "      <td>Sunday</td>\n",
       "      <td>2016</td>\n",
       "      <td>October</td>\n",
       "    </tr>\n",
       "    <tr>\n",
       "      <th>...</th>\n",
       "      <td>...</td>\n",
       "      <td>...</td>\n",
       "      <td>...</td>\n",
       "      <td>...</td>\n",
       "      <td>...</td>\n",
       "      <td>...</td>\n",
       "      <td>...</td>\n",
       "      <td>...</td>\n",
       "    </tr>\n",
       "    <tr>\n",
       "      <th>20500</th>\n",
       "      <td>9682</td>\n",
       "      <td>Muffin</td>\n",
       "      <td>2017-09-04 14:32:58</td>\n",
       "      <td>Afternoon</td>\n",
       "      <td>Weekend</td>\n",
       "      <td>Monday</td>\n",
       "      <td>2017</td>\n",
       "      <td>September</td>\n",
       "    </tr>\n",
       "    <tr>\n",
       "      <th>20503</th>\n",
       "      <td>9682</td>\n",
       "      <td>Tea</td>\n",
       "      <td>2017-09-04 14:32:58</td>\n",
       "      <td>Afternoon</td>\n",
       "      <td>Weekend</td>\n",
       "      <td>Monday</td>\n",
       "      <td>2017</td>\n",
       "      <td>September</td>\n",
       "    </tr>\n",
       "    <tr>\n",
       "      <th>20505</th>\n",
       "      <td>9683</td>\n",
       "      <td>Pastry</td>\n",
       "      <td>2017-09-04 14:57:06</td>\n",
       "      <td>Afternoon</td>\n",
       "      <td>Weekend</td>\n",
       "      <td>Monday</td>\n",
       "      <td>2017</td>\n",
       "      <td>September</td>\n",
       "    </tr>\n",
       "    <tr>\n",
       "      <th>20504</th>\n",
       "      <td>9683</td>\n",
       "      <td>Coffee</td>\n",
       "      <td>2017-09-04 14:57:06</td>\n",
       "      <td>Afternoon</td>\n",
       "      <td>Weekend</td>\n",
       "      <td>Monday</td>\n",
       "      <td>2017</td>\n",
       "      <td>September</td>\n",
       "    </tr>\n",
       "    <tr>\n",
       "      <th>20506</th>\n",
       "      <td>9684</td>\n",
       "      <td>Smoothies</td>\n",
       "      <td>2017-09-04 15:04:24</td>\n",
       "      <td>Afternoon</td>\n",
       "      <td>Weekend</td>\n",
       "      <td>Monday</td>\n",
       "      <td>2017</td>\n",
       "      <td>September</td>\n",
       "    </tr>\n",
       "  </tbody>\n",
       "</table>\n",
       "<p>18887 rows × 8 columns</p>\n",
       "</div>"
      ],
      "text/plain": [
       "       TransactionNo          Items            DateTime    Daypart  DayType  \\\n",
       "0                  1          Bread 2016-10-30 09:58:11    Morning  Weekend   \n",
       "1                  2   Scandinavian 2016-10-30 10:05:34    Morning  Weekend   \n",
       "3                  3  Hot chocolate 2016-10-30 10:07:57    Morning  Weekend   \n",
       "4                  3            Jam 2016-10-30 10:07:57    Morning  Weekend   \n",
       "5                  3        Cookies 2016-10-30 10:07:57    Morning  Weekend   \n",
       "...              ...            ...                 ...        ...      ...   \n",
       "20500           9682         Muffin 2017-09-04 14:32:58  Afternoon  Weekend   \n",
       "20503           9682            Tea 2017-09-04 14:32:58  Afternoon  Weekend   \n",
       "20505           9683         Pastry 2017-09-04 14:57:06  Afternoon  Weekend   \n",
       "20504           9683         Coffee 2017-09-04 14:57:06  Afternoon  Weekend   \n",
       "20506           9684      Smoothies 2017-09-04 15:04:24  Afternoon  Weekend   \n",
       "\n",
       "          Day  Year      Month  \n",
       "0      Sunday  2016    October  \n",
       "1      Sunday  2016    October  \n",
       "3      Sunday  2016    October  \n",
       "4      Sunday  2016    October  \n",
       "5      Sunday  2016    October  \n",
       "...       ...   ...        ...  \n",
       "20500  Monday  2017  September  \n",
       "20503  Monday  2017  September  \n",
       "20505  Monday  2017  September  \n",
       "20504  Monday  2017  September  \n",
       "20506  Monday  2017  September  \n",
       "\n",
       "[18887 rows x 8 columns]"
      ]
     },
     "execution_count": 14,
     "metadata": {},
     "output_type": "execute_result"
    }
   ],
   "source": [
    "# Drop the duplicate rows in the dataframe\n",
    "df.drop_duplicates(subset=None, keep='first', inplace=False, ignore_index=False)"
   ]
  },
  {
   "cell_type": "markdown",
   "id": "954c6251",
   "metadata": {},
   "source": [
    "## Monthly Sales Performance"
   ]
  },
  {
   "cell_type": "code",
   "execution_count": 15,
   "id": "7819d4a6",
   "metadata": {},
   "outputs": [
    {
     "data": {
      "text/plain": [
       "March        3220\n",
       "November     3076\n",
       "January      3027\n",
       "February     2748\n",
       "December     2647\n",
       "April        1048\n",
       "October      1041\n",
       "May           924\n",
       "July          741\n",
       "June          739\n",
       "August        700\n",
       "September     596\n",
       "Name: Month, dtype: int64"
      ]
     },
     "execution_count": 15,
     "metadata": {},
     "output_type": "execute_result"
    }
   ],
   "source": [
    "TopMonths = df.Month.value_counts()\n",
    "TopMonths"
   ]
  },
  {
   "cell_type": "code",
   "execution_count": 16,
   "id": "93b01e9c",
   "metadata": {},
   "outputs": [
    {
     "data": {
      "image/png": "[encoded data removed]",
      "text/plain": [
       "<Figure size 864x432 with 1 Axes>"
      ]
     },
     "metadata": {
      "needs_background": "light"
     },
     "output_type": "display_data"
    }
   ],
   "source": [
    "plt.figure(figsize=(12,6))\n",
    "sns.countplot('Month', data=df, palette='pastel', x=df.Month.value_counts().index);\n",
    "plt.title('Months with the Highest Purchases')\n",
    "plt.xticks(rotation=90)\n",
    "plt.show();"
   ]
  },
  {
   "cell_type": "markdown",
   "id": "307238e0",
   "metadata": {},
   "source": [
    "## Insight\n",
    "This analysis shows that the most purchases were made in the month(March, November, January, February, December)"
   ]
  },
  {
   "cell_type": "markdown",
   "id": "c0e72c4c",
   "metadata": {},
   "source": [
    "## Top 20 Items purchased"
   ]
  },
  {
   "cell_type": "code",
   "execution_count": 17,
   "id": "7af68ba9",
   "metadata": {},
   "outputs": [
    {
     "data": {
      "text/plain": [
       "Coffee            5471\n",
       "Bread             3325\n",
       "Tea               1435\n",
       "Cake              1025\n",
       "Pastry             856\n",
       "                  ... \n",
       "Bacon                1\n",
       "Gift voucher         1\n",
       "Olum & polenta       1\n",
       "Raw bars             1\n",
       "Polenta              1\n",
       "Name: Items, Length: 94, dtype: int64"
      ]
     },
     "execution_count": 17,
     "metadata": {},
     "output_type": "execute_result"
    }
   ],
   "source": [
    "TopProducts = df.Items.value_counts()\n",
    "TopProducts"
   ]
  },
  {
   "cell_type": "code",
   "execution_count": 18,
   "id": "7e17c142",
   "metadata": {},
   "outputs": [
    {
     "data": {
      "image/png": "[encoded data removed]",
      "text/plain": [
       "<Figure size 1080x432 with 1 Axes>"
      ]
     },
     "metadata": {
      "needs_background": "light"
     },
     "output_type": "display_data"
    }
   ],
   "source": [
    "plt.figure(figsize=(15,6))\n",
    "sns.countplot('Items', \n",
    "              data=df, \n",
    "              palette='autumn', \n",
    "              order=df.Items.value_counts().iloc[:20].index)\n",
    "plt.title('Top 20 Items with the Highest Purchases')\n",
    "plt.xticks(rotation=90)\n",
    "plt.show();"
   ]
  },
  {
   "cell_type": "markdown",
   "id": "b6f6d77a",
   "metadata": {},
   "source": [
    "## Insight\n",
    "From This analysis, It proves that the most purchased item is the coffee, Bread, Tea, Cake and Pastry."
   ]
  },
  {
   "cell_type": "markdown",
   "id": "ab3f1d0a",
   "metadata": {},
   "source": [
    "## Yearly Sales Performance"
   ]
  },
  {
   "cell_type": "code",
   "execution_count": 19,
   "id": "a5d55306",
   "metadata": {},
   "outputs": [
    {
     "data": {
      "text/plain": [
       "2017    12363\n",
       "2016     8144\n",
       "Name: Year, dtype: int64"
      ]
     },
     "execution_count": 19,
     "metadata": {},
     "output_type": "execute_result"
    }
   ],
   "source": [
    "TopYear = df.Year.value_counts()\n",
    "TopYear"
   ]
  },
  {
   "cell_type": "code",
   "execution_count": 20,
   "id": "ecd75c4d",
   "metadata": {
    "scrolled": false
   },
   "outputs": [
    {
     "data": {
      "image/png": "[encoded data removed]",
      "text/plain": [
       "<Figure size 864x432 with 1 Axes>"
      ]
     },
     "metadata": {
      "needs_background": "light"
     },
     "output_type": "display_data"
    }
   ],
   "source": [
    "plt.figure(figsize=(12,6))\n",
    "sns.countplot('Year', \n",
    "              data=df, \n",
    "              palette='plasma', \n",
    "              order=df.Year.value_counts().index)\n",
    "plt.title('Years with the Highest Purchases')\n",
    "plt.xticks(rotation=0)\n",
    "plt.show();"
   ]
  },
  {
   "cell_type": "markdown",
   "id": "56ac8143",
   "metadata": {},
   "source": [
    "## Insight\n",
    "From This analysis, It proves that the most purchased year is the 2017."
   ]
  },
  {
   "cell_type": "markdown",
   "id": "74b29bcd",
   "metadata": {},
   "source": [
    "## Days with the most transactions"
   ]
  },
  {
   "cell_type": "code",
   "execution_count": 21,
   "id": "ff32dec8",
   "metadata": {},
   "outputs": [
    {
     "data": {
      "text/plain": [
       "Saturday     3554\n",
       "Friday       3266\n",
       "Sunday       3118\n",
       "Monday       3035\n",
       "Tuesday      2645\n",
       "Thursday     2601\n",
       "Wednesday    2288\n",
       "Name: Day, dtype: int64"
      ]
     },
     "execution_count": 21,
     "metadata": {},
     "output_type": "execute_result"
    }
   ],
   "source": [
    "BusiestDays = df.Day.value_counts()\n",
    "BusiestDays"
   ]
  },
  {
   "cell_type": "code",
   "execution_count": 22,
   "id": "f0ec8fe2",
   "metadata": {},
   "outputs": [
    {
     "data": {
      "image/png": "[encoded data removed]",
      "text/plain": [
       "<Figure size 864x432 with 1 Axes>"
      ]
     },
     "metadata": {
      "needs_background": "light"
     },
     "output_type": "display_data"
    }
   ],
   "source": [
    "plt.figure(figsize=(12,6))\n",
    "sns.countplot('Day', \n",
    "              data=df, \n",
    "              palette='summer', \n",
    "              order=df.Day.value_counts().index)\n",
    "plt.title('Days with the most Transactions')\n",
    "plt.xticks(rotation=45)\n",
    "plt.show();"
   ]
  },
  {
   "cell_type": "markdown",
   "id": "48de8e0c",
   "metadata": {},
   "source": [
    "## Insight\n",
    "This analysis shows that the most sale is made on saturday and least sale is made on wednesday."
   ]
  },
  {
   "cell_type": "markdown",
   "id": "401089f9",
   "metadata": {},
   "source": [
    "## Busiest Period in the Day"
   ]
  },
  {
   "cell_type": "code",
   "execution_count": 23,
   "id": "8b74fa0e",
   "metadata": {},
   "outputs": [
    {
     "data": {
      "text/plain": [
       "Afternoon    11569\n",
       "Morning       8404\n",
       "Evening        520\n",
       "Night           14\n",
       "Name: Daypart, dtype: int64"
      ]
     },
     "execution_count": 23,
     "metadata": {},
     "output_type": "execute_result"
    }
   ],
   "source": [
    "Busiest_Periods = df.Daypart.value_counts()\n",
    "Busiest_Periods"
   ]
  },
  {
   "cell_type": "code",
   "execution_count": 24,
   "id": "8c694843",
   "metadata": {},
   "outputs": [
    {
     "data": {
      "image/png": "[encoded data removed]",
      "text/plain": [
       "<Figure size 864x432 with 1 Axes>"
      ]
     },
     "metadata": {
      "needs_background": "light"
     },
     "output_type": "display_data"
    }
   ],
   "source": [
    "plt.figure(figsize=(12,6))\n",
    "sns.countplot('Daypart', \n",
    "              data=df, \n",
    "              palette='summer_r', \n",
    "              order=df.Daypart.value_counts().index)\n",
    "plt.title('Busiest Periods in the Day')\n",
    "plt.xticks(rotation=45)\n",
    "plt.show();"
   ]
  },
  {
   "cell_type": "markdown",
   "id": "b84d42d4",
   "metadata": {},
   "source": [
    "## Insight\n",
    "This analysis show that the most busiest period in the day is afternoon and least busiest period is night."
   ]
  },
  {
   "cell_type": "code",
   "execution_count": null,
   "id": "2e60a71c",
   "metadata": {},
   "outputs": [],
   "source": []
  }
 ],
 "metadata": {
  "kernelspec": {
   "display_name": "Python 3 (ipykernel)",
   "language": "python",
   "name": "python3"
  },
  "language_info": {
   "codemirror_mode": {
    "name": "ipython",
    "version": 3
   },
   "file_extension": ".py",
   "mimetype": "text/x-python",
   "name": "python",
   "nbconvert_exporter": "python",
   "pygments_lexer": "ipython3",
   "version": "3.9.10"
  }
 },
 "nbformat": 4,
 "nbformat_minor": 5
}
